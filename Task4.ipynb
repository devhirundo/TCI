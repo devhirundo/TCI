{
 "cells": [
  {
   "cell_type": "markdown",
   "id": "53d597ab",
   "metadata": {},
   "source": [
    "**0.Set new function** \\\n",
    "The function we discussed in the last 3 tasks, has an issue that its integral value converges to 0. I considered a function whose sum is a positive value. "
   ]
  },
  {
   "cell_type": "code",
   "execution_count": 1,
   "id": "df16d0b7",
   "metadata": {},
   "outputs": [
    {
     "name": "stdout",
     "output_type": "stream",
     "text": [
      "-9.975154811314031e-17\n"
     ]
    }
   ],
   "source": [
    "#Test with increasing N, it converges to 0! (100~200)\n",
    "#WHY??\n",
    "N = 100\n",
    "\n",
    "function f(v)\n",
    "    j = v[1]\n",
    "    k = v[2]\n",
    "    l = v[3]\n",
    "    term1 = cos(2*π*(j*k/N)) * sin(2*π*(j*l/N))* exp(-j/N)\n",
    "    term2 = sin(2*π*(j*k/N)) * cos(2*π*(j*l/N))* exp(-j^2/N^2)\n",
    "    return term1 + term2\n",
    "end\n",
    "\n",
    "\n",
    "sum = 0\n",
    "for j in 0:N\n",
    "    for k in 0:N\n",
    "        for l in 0:N\n",
    "            sum += f((j,k,l)) \n",
    "        end\n",
    "    end\n",
    "end\n",
    "\n",
    "println(sum/(N^3))"
   ]
  },
  {
   "cell_type": "markdown",
   "id": "5144b991",
   "metadata": {},
   "source": [
    "However, this function also cannot calculate the exact integral value, just like the previous function :(\n",
    "Because the domain is set to the cube of (x, y, z), not (r, theta). "
   ]
  },
  {
   "cell_type": "markdown",
   "id": "a72428a2",
   "metadata": {},
   "source": [
    "**1. Simple Monte Carlo**"
   ]
  },
  {
   "cell_type": "code",
   "execution_count": 27,
   "id": "48c44493",
   "metadata": {},
   "outputs": [
    {
     "name": "stdout",
     "output_type": "stream",
     "text": [
      "0.21988544278075337\n",
      "0.00012175737343443051\n"
     ]
    }
   ],
   "source": [
    "\n",
    "function f(v)\n",
    "    j = v[1]\n",
    "    k = v[2]\n",
    "    l = v[3]\n",
    "    return (cos(sqrt(j^2+k^2)) * sin(sqrt(j^2+l^2)))^2\n",
    "end\n",
    "\n",
    "\n",
    "\n",
    "\n",
    "M = 10\n",
    "N = 100000\n",
    "acc = 0\n",
    "accSq = 0\n",
    "for _ in 1:M\n",
    "    sum = 0\n",
    "    for i in 1:N\n",
    "        v = (rand(),rand(),rand())\n",
    "        #println(v)\n",
    "        sum += f(v)\n",
    "    end\n",
    "    sum = sum / N\n",
    "    acc += sum\n",
    "    accSq += sum^2\n",
    "end\n",
    "\n",
    "av = acc / M\n",
    "stdev = sqrt((accSq / M - av^2)/M)\n",
    "\n",
    "println(av)\n",
    "println(stdev)"
   ]
  },
  {
   "cell_type": "markdown",
   "id": "0ad57fe1",
   "metadata": {},
   "source": [
    "<img src=\"Image/newFunctionPositive.png\" alt=\"std\" width=800>"
   ]
  },
  {
   "cell_type": "markdown",
   "id": "ae76387b",
   "metadata": {},
   "source": [
    "It has a value smaller than the actual value. We need Importance sampling!"
   ]
  },
  {
   "cell_type": "markdown",
   "id": "1fad5485",
   "metadata": {},
   "source": [
    "**2. Monte Carlo with Importance Sampling**"
   ]
  },
  {
   "cell_type": "markdown",
   "id": "4e17d6bc",
   "metadata": {},
   "source": [
    "<img src=\"Image/ImSm.jpg\" alt=\"std\" width=800>"
   ]
  },
  {
   "cell_type": "markdown",
   "id": "24a38008",
   "metadata": {},
   "source": [
    "Q. How can we ensure that distributions can be extracted using the rand function?\n",
    "A. https://juliastats.org/Distributions.jl/stable/starting/ (4th code block)\n",
    "\n",
    "...and truncated function is also helpful dealing with distribution (6th code block)"
   ]
  },
  {
   "cell_type": "code",
   "execution_count": null,
   "id": "d012395d",
   "metadata": {},
   "outputs": [
    {
     "name": "stdout",
     "output_type": "stream",
     "text": [
      "0.22017526218890876\n",
      "0.0002222755375524304\n"
     ]
    }
   ],
   "source": [
    "using Distributions \n",
    "\n",
    "function f(v)\n",
    "    j = v[1]\n",
    "    k = v[2]\n",
    "    l = v[3]\n",
    "    return (cos(sqrt(j^2 + k^2)) * sin(sqrt(j^2 + l^2)))^2\n",
    "end\n",
    "\n",
    "dist = Truncated(Normal(0.0, 0.5), 0.0, 1.0) #Set boundary for distribution (consider domain)\n",
    "\n",
    "dist3D = Product([dist, dist, dist]) #WOW!\n",
    "\n",
    "\n",
    "M = 10\n",
    "N = 100000\n",
    "acc = 0\n",
    "accSq = 0\n",
    "for _ in 1:M\n",
    "    sum = 0\n",
    "\n",
    "    for _ in 1:N\n",
    "        randPoint= rand(dist3D) #WOW! - It also possible to visualize distribution (https://discourse.julialang.org/t/product-distribution-allocates-a-lot/126771)\n",
    "        fv= f(randPoint)\n",
    "        #pv = 1/(1*1*1)\n",
    "        qv = pdf(dist3D, randPoint) #get p from distribution\n",
    "        sum += fv / qv\n",
    "    end\n",
    "\n",
    "    sum = sum / N\n",
    "    acc += sum\n",
    "    accSq += sum^2\n",
    "end\n",
    "\n",
    "av = acc / M\n",
    "stdev = sqrt((accSq / M - av^2)/M)\n",
    "\n",
    "println(av)\n",
    "println(stdev)"
   ]
  },
  {
   "cell_type": "markdown",
   "id": "f82e5479",
   "metadata": {},
   "source": [
    "**3.using monte carlo for j and tci for k,l(high-rank)** \\\n",
    "we do not need to perform TCI on k and l. More specifically, it becomes a Rank 1 matrix. We need a better function to which we can apply TCI!"
   ]
  },
  {
   "cell_type": "markdown",
   "id": "8949bcf5",
   "metadata": {},
   "source": [
    "<img src=\"Image/mcwithTCI.jpg\" alt=\"std\" width=800>"
   ]
  },
  {
   "cell_type": "code",
   "execution_count": null,
   "id": "af2d70c5",
   "metadata": {},
   "outputs": [],
   "source": [
    "using Distributions\n",
    "import TensorCrossInterpolation as TCI\n",
    "\n",
    "randJ = 0.0\n",
    "\n",
    "function f(v)\n",
    "    j = v[1]\n",
    "    k = v[2]\n",
    "    l = v[3]\n",
    "    return (cos(sqrt(randJ^2 + (k/N)^2)) * sin(sqrt(randJ^2 + (l/N)^2)))^2 + (cos(sqrt(randJ^2 + (k/N)^2)) * sin(sqrt(randJ^2 + (l/N)^2)))^2\n",
    "end\n",
    "\n",
    "N = 100\n",
    "\n",
    "sum = 0\n",
    "\n",
    "for _ in 0:N\n",
    "    randJ= rand(0:N) \n",
    "\n",
    "    localdims = fill(N, 2) # N lattices for 2 variable\n",
    "    tolerance = 1e-8 #target error\n",
    "    tci, ranks, errors = TCI.crossinterpolate2(Float64, g, localdims; tolerance=tolerance)\n",
    "    \n",
    "    #println(tci)\n",
    "\n",
    "end\n"
   ]
  },
  {
   "cell_type": "markdown",
   "id": "7d2148e3",
   "metadata": {},
   "source": [
    "**Problem**\n",
    "\n",
    "I think the key point in importance sampling is setting the distribution correctly.\n",
    "this time, large values were clustered near zero, so applying standard deviation worked well **by chance** as I think :(."
   ]
  }
 ],
 "metadata": {
  "kernelspec": {
   "display_name": "Julia 1.11.6",
   "language": "julia",
   "name": "julia-1.11"
  },
  "language_info": {
   "file_extension": ".jl",
   "mimetype": "application/julia",
   "name": "julia",
   "version": "1.11.6"
  }
 },
 "nbformat": 4,
 "nbformat_minor": 5
}
